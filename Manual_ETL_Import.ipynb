{
  "nbformat": 4,
  "nbformat_minor": 0,
  "metadata": {
    "colab": {
      "provenance": [],
      "include_colab_link": true
    },
    "kernelspec": {
      "name": "python3",
      "display_name": "Python 3"
    },
    "language_info": {
      "name": "python"
    }
  },
  "cells": [
    {
      "cell_type": "markdown",
      "metadata": {
        "id": "view-in-github",
        "colab_type": "text"
      },
      "source": [
        "<a href=\"https://colab.research.google.com/github/ian-summers/MLB-player-archetypes-by-age/blob/Data-ETL/Manual_ETL_Import.ipynb\" target=\"_parent\"><img src=\"https://colab.research.google.com/assets/colab-badge.svg\" alt=\"Open In Colab\"/></a>"
      ]
    },
    {
      "cell_type": "code",
      "source": [
        "try:\n",
        "    import pyspark\n",
        "except ImportError:\n",
        "    !pip install pyspark"
      ],
      "metadata": {
        "id": "nB6CgU07K8vo"
      },
      "execution_count": 22,
      "outputs": []
    },
    {
      "cell_type": "code",
      "source": [
        "from pyspark.sql import SparkSession\n",
        "\n",
        "spark = SparkSession.builder.appName(\"ImportCSV\").getOrCreate()"
      ],
      "metadata": {
        "id": "9dmd9fKzKdF9"
      },
      "execution_count": 23,
      "outputs": []
    },
    {
      "cell_type": "code",
      "source": [
        "\n",
        "from google.colab import files\n",
        "\n",
        "\n",
        "uploaded = files.upload()"
      ],
      "metadata": {
        "colab": {
          "base_uri": "https://localhost:8080/",
          "height": 420
        },
        "id": "QrkzHm8JRMgb",
        "outputId": "9862dcdb-b270-4117-a732-ee489c8a54c4"
      },
      "execution_count": 24,
      "outputs": [
        {
          "output_type": "display_data",
          "data": {
            "text/plain": [
              "<IPython.core.display.HTML object>"
            ],
            "text/html": [
              "\n",
              "     <input type=\"file\" id=\"files-a3f448e8-3930-49db-b14d-1e7c97fbbd87\" name=\"files[]\" multiple disabled\n",
              "        style=\"border:none\" />\n",
              "     <output id=\"result-a3f448e8-3930-49db-b14d-1e7c97fbbd87\">\n",
              "      Upload widget is only available when the cell has been executed in the\n",
              "      current browser session. Please rerun this cell to enable.\n",
              "      </output>\n",
              "      <script>// Copyright 2017 Google LLC\n",
              "//\n",
              "// Licensed under the Apache License, Version 2.0 (the \"License\");\n",
              "// you may not use this file except in compliance with the License.\n",
              "// You may obtain a copy of the License at\n",
              "//\n",
              "//      http://www.apache.org/licenses/LICENSE-2.0\n",
              "//\n",
              "// Unless required by applicable law or agreed to in writing, software\n",
              "// distributed under the License is distributed on an \"AS IS\" BASIS,\n",
              "// WITHOUT WARRANTIES OR CONDITIONS OF ANY KIND, either express or implied.\n",
              "// See the License for the specific language governing permissions and\n",
              "// limitations under the License.\n",
              "\n",
              "/**\n",
              " * @fileoverview Helpers for google.colab Python module.\n",
              " */\n",
              "(function(scope) {\n",
              "function span(text, styleAttributes = {}) {\n",
              "  const element = document.createElement('span');\n",
              "  element.textContent = text;\n",
              "  for (const key of Object.keys(styleAttributes)) {\n",
              "    element.style[key] = styleAttributes[key];\n",
              "  }\n",
              "  return element;\n",
              "}\n",
              "\n",
              "// Max number of bytes which will be uploaded at a time.\n",
              "const MAX_PAYLOAD_SIZE = 100 * 1024;\n",
              "\n",
              "function _uploadFiles(inputId, outputId) {\n",
              "  const steps = uploadFilesStep(inputId, outputId);\n",
              "  const outputElement = document.getElementById(outputId);\n",
              "  // Cache steps on the outputElement to make it available for the next call\n",
              "  // to uploadFilesContinue from Python.\n",
              "  outputElement.steps = steps;\n",
              "\n",
              "  return _uploadFilesContinue(outputId);\n",
              "}\n",
              "\n",
              "// This is roughly an async generator (not supported in the browser yet),\n",
              "// where there are multiple asynchronous steps and the Python side is going\n",
              "// to poll for completion of each step.\n",
              "// This uses a Promise to block the python side on completion of each step,\n",
              "// then passes the result of the previous step as the input to the next step.\n",
              "function _uploadFilesContinue(outputId) {\n",
              "  const outputElement = document.getElementById(outputId);\n",
              "  const steps = outputElement.steps;\n",
              "\n",
              "  const next = steps.next(outputElement.lastPromiseValue);\n",
              "  return Promise.resolve(next.value.promise).then((value) => {\n",
              "    // Cache the last promise value to make it available to the next\n",
              "    // step of the generator.\n",
              "    outputElement.lastPromiseValue = value;\n",
              "    return next.value.response;\n",
              "  });\n",
              "}\n",
              "\n",
              "/**\n",
              " * Generator function which is called between each async step of the upload\n",
              " * process.\n",
              " * @param {string} inputId Element ID of the input file picker element.\n",
              " * @param {string} outputId Element ID of the output display.\n",
              " * @return {!Iterable<!Object>} Iterable of next steps.\n",
              " */\n",
              "function* uploadFilesStep(inputId, outputId) {\n",
              "  const inputElement = document.getElementById(inputId);\n",
              "  inputElement.disabled = false;\n",
              "\n",
              "  const outputElement = document.getElementById(outputId);\n",
              "  outputElement.innerHTML = '';\n",
              "\n",
              "  const pickedPromise = new Promise((resolve) => {\n",
              "    inputElement.addEventListener('change', (e) => {\n",
              "      resolve(e.target.files);\n",
              "    });\n",
              "  });\n",
              "\n",
              "  const cancel = document.createElement('button');\n",
              "  inputElement.parentElement.appendChild(cancel);\n",
              "  cancel.textContent = 'Cancel upload';\n",
              "  const cancelPromise = new Promise((resolve) => {\n",
              "    cancel.onclick = () => {\n",
              "      resolve(null);\n",
              "    };\n",
              "  });\n",
              "\n",
              "  // Wait for the user to pick the files.\n",
              "  const files = yield {\n",
              "    promise: Promise.race([pickedPromise, cancelPromise]),\n",
              "    response: {\n",
              "      action: 'starting',\n",
              "    }\n",
              "  };\n",
              "\n",
              "  cancel.remove();\n",
              "\n",
              "  // Disable the input element since further picks are not allowed.\n",
              "  inputElement.disabled = true;\n",
              "\n",
              "  if (!files) {\n",
              "    return {\n",
              "      response: {\n",
              "        action: 'complete',\n",
              "      }\n",
              "    };\n",
              "  }\n",
              "\n",
              "  for (const file of files) {\n",
              "    const li = document.createElement('li');\n",
              "    li.append(span(file.name, {fontWeight: 'bold'}));\n",
              "    li.append(span(\n",
              "        `(${file.type || 'n/a'}) - ${file.size} bytes, ` +\n",
              "        `last modified: ${\n",
              "            file.lastModifiedDate ? file.lastModifiedDate.toLocaleDateString() :\n",
              "                                    'n/a'} - `));\n",
              "    const percent = span('0% done');\n",
              "    li.appendChild(percent);\n",
              "\n",
              "    outputElement.appendChild(li);\n",
              "\n",
              "    const fileDataPromise = new Promise((resolve) => {\n",
              "      const reader = new FileReader();\n",
              "      reader.onload = (e) => {\n",
              "        resolve(e.target.result);\n",
              "      };\n",
              "      reader.readAsArrayBuffer(file);\n",
              "    });\n",
              "    // Wait for the data to be ready.\n",
              "    let fileData = yield {\n",
              "      promise: fileDataPromise,\n",
              "      response: {\n",
              "        action: 'continue',\n",
              "      }\n",
              "    };\n",
              "\n",
              "    // Use a chunked sending to avoid message size limits. See b/62115660.\n",
              "    let position = 0;\n",
              "    do {\n",
              "      const length = Math.min(fileData.byteLength - position, MAX_PAYLOAD_SIZE);\n",
              "      const chunk = new Uint8Array(fileData, position, length);\n",
              "      position += length;\n",
              "\n",
              "      const base64 = btoa(String.fromCharCode.apply(null, chunk));\n",
              "      yield {\n",
              "        response: {\n",
              "          action: 'append',\n",
              "          file: file.name,\n",
              "          data: base64,\n",
              "        },\n",
              "      };\n",
              "\n",
              "      let percentDone = fileData.byteLength === 0 ?\n",
              "          100 :\n",
              "          Math.round((position / fileData.byteLength) * 100);\n",
              "      percent.textContent = `${percentDone}% done`;\n",
              "\n",
              "    } while (position < fileData.byteLength);\n",
              "  }\n",
              "\n",
              "  // All done.\n",
              "  yield {\n",
              "    response: {\n",
              "      action: 'complete',\n",
              "    }\n",
              "  };\n",
              "}\n",
              "\n",
              "scope.google = scope.google || {};\n",
              "scope.google.colab = scope.google.colab || {};\n",
              "scope.google.colab._files = {\n",
              "  _uploadFiles,\n",
              "  _uploadFilesContinue,\n",
              "};\n",
              "})(self);\n",
              "</script> "
            ]
          },
          "metadata": {}
        },
        {
          "output_type": "stream",
          "name": "stdout",
          "text": [
            "Saving batting_2023.csv to batting_2023.csv\n",
            "Saving batting_2022.csv to batting_2022.csv\n",
            "Saving batting_2021.csv to batting_2021.csv\n",
            "Saving batting_2020.csv to batting_2020.csv\n",
            "Saving batting_2019.csv to batting_2019.csv\n",
            "Saving batting_2018.csv to batting_2018.csv\n",
            "Saving batting_2017.csv to batting_2017.csv\n",
            "Saving batting_2016.csv to batting_2016.csv\n",
            "Saving batting_2015.csv to batting_2015.csv\n",
            "Saving batting_2014.csv to batting_2014.csv\n",
            "Saving batting_2013.csv to batting_2013.csv\n"
          ]
        }
      ]
    },
    {
      "cell_type": "code",
      "source": [
        "import pandas as pd\n",
        "import io"
      ],
      "metadata": {
        "id": "cdTV4hAG0Jil"
      },
      "execution_count": 27,
      "outputs": []
    },
    {
      "cell_type": "code",
      "execution_count": 28,
      "metadata": {
        "colab": {
          "base_uri": "https://localhost:8080/"
        },
        "id": "J0IjnGUlKTrE",
        "outputId": "b914e82a-534e-4b68-b036-e95234c9ac39"
      },
      "outputs": [
        {
          "output_type": "stream",
          "name": "stdout",
          "text": [
            "+-----+------+-----------------+---+---+---+---+--------------------+-------------------+----+-----+-----+-----+-----+-----+-------------------+-------------------+-------------------+-------------------+-------------------+-------------------+-------------------+-------------------+-------------------+-------------------+----+----+-------+-------------------+-----+-------+-------------------+-------------------+-------------------+-------------------+------------------+-------------------+------------------+------------------+--------------------+-------------------+------+----+---+\n",
            "| IDfg|Season|             Name|Age|  G| AB| PA|                 BB%|                 K%|BB/K|  OBP|  SLG|  OPS|  ISO|BABIP|                LD%|                GB%|                FB%|              HR/FB|              Pull%|              Cent%|              Oppo%|              Soft%|               Med%|              Hard%|  EV|  LA|Barrels|            Barrel%|maxEV|HardHit|           HardHit%|              CStr%|               CSW%|           O-Swing%|          Z-Swing%|         O-Contact%|        Z-Contact%|         F-Strike%|              SwStr%|              Zone%|Clutch| UBR|WAR|\n",
            "+-----+------+-----------------+---+---+---+---+--------------------+-------------------+----+-----+-----+-----+-----+-----+-------------------+-------------------+-------------------+-------------------+-------------------+-------------------+-------------------+-------------------+-------------------+-------------------+----+----+-------+-------------------+-----+-------+-------------------+-------------------+-------------------+-------------------+------------------+-------------------+------------------+------------------+--------------------+-------------------+------+----+---+\n",
            "|18401|  2023| Ronald Acuna Jr.| 25|159|643|735|               0.109|              0.114|0.95|0.416|0.596|1.012|0.258|0.338|              0.201|              0.495|              0.304|               0.24|              0.397|0.35600000000000004|              0.247|0.10099999999999999|0.43799999999999994|              0.461|94.7| 7.4|     86|              0.153|121.2|    309|               0.55|0.13699999999999998|              0.214|              0.268|             0.728|              0.738|             0.878|             0.589|               0.078|0.42200000000000004|  1.16| 2.2|8.4|\n",
            "|13611|  2023|     Mookie Betts| 30|152|584|693|               0.139|              0.154| 0.9|0.408|0.579|0.987|0.272|0.316|              0.237|              0.278|              0.485|0.16699999999999998|0.46299999999999997|              0.355|              0.183|                0.1|               0.49|0.41100000000000003|92.4|20.6|     60|              0.125|110.1|    232|0.48100000000000004|              0.205|              0.262|                0.2|              0.63|              0.643|0.9390000000000001|             0.595|0.057999999999999996|0.42100000000000004| -0.72| 2.3|8.3|\n",
            "| 5361|  2023|  Freddie Freeman| 33|161|637|730|               0.099|              0.166| 0.6| 0.41|0.567|0.976|0.235| 0.37|              0.276|              0.353|               0.37|               0.15|              0.365|0.35700000000000004|              0.278|              0.106|              0.526|              0.369|90.0|15.2|     58|              0.111|110.6|    218|              0.418|              0.114|0.20800000000000002|              0.301|             0.792|              0.688|              0.88|             0.614|               0.094|              0.426|  -1.5| 1.4|7.9|\n",
            "|14344|  2023|       Matt Olson| 29|162|608|720| 0.14400000000000002|0.23199999999999998|0.62|0.389|0.604|0.993|0.321|0.302|0.17800000000000002|              0.387|              0.436|              0.278|              0.382|              0.373|              0.245|0.11199999999999999|              0.461|0.42700000000000005|93.7|16.1|     73|0.16399999999999998|118.6|    245|              0.551|              0.131|              0.249|              0.295|             0.735|              0.695|             0.777|             0.556| 0.11900000000000001|              0.395|  -0.6| 2.3|6.7|\n",
            "|19755|  2023|    Shohei Ohtani| 28|135|497|599|               0.152|              0.239|0.64|0.412|0.654|1.066| 0.35|0.342|              0.182|              0.423|              0.395|              0.312|              0.389|              0.361|              0.249|              0.098|              0.473|              0.429|94.4|13.2|     70|              0.193|118.6|    193| 0.5329999999999999|              0.125|              0.265|0.33299999999999996|0.7070000000000001|              0.565|0.8140000000000001|0.5710000000000001|               0.139|0.39299999999999996| -2.08| 1.7|6.6|\n",
            "|12533|  2023|    Marcus Semien| 32|162|670|753|               0.096|              0.146|0.65|0.348|0.478|0.826|0.201|0.291|              0.196|0.33799999999999997|              0.465|               0.11|              0.494|              0.304|0.20199999999999999|              0.131|              0.525|              0.344|88.4|19.1|     37|              0.065|108.6|    208|              0.368|              0.146|              0.225|              0.253|              0.77|              0.662|             0.912|             0.608|               0.078|0.42100000000000004| -1.53| 1.0|6.3|\n",
            "|13624|  2023|     Corey Seager| 29|119|477|536|               0.091|0.16399999999999998|0.56| 0.39|0.623|1.013|0.296| 0.34|              0.203|                0.4|              0.397|               0.21|              0.415|              0.344|0.24100000000000002|              0.086|               0.43|              0.484|93.3|13.0|     60|              0.152|114.4|    210|              0.532|              0.075|                0.2|              0.336|             0.855|              0.551|             0.895|             0.612|               0.126|              0.415|  0.38|-4.4|6.1|\n",
            "|25878|  2023|   Corbin Carroll| 22|155|565|645| 0.08800000000000001|0.19399999999999998|0.46|0.362|0.506|0.868|0.221|0.325|               0.19|              0.439|              0.371|              0.154|0.42700000000000005|              0.331|              0.242|              0.142|              0.524|0.33299999999999996|90.0|11.0|     34|              0.076|113.8|    184|              0.409|              0.168|              0.257|              0.305|              0.67|              0.682|             0.885|0.5720000000000001| 0.08900000000000001|0.41100000000000003|   1.5| 6.0|6.1|\n",
            "|12916|  2023| Francisco Lindor| 29|160|602|687|               0.096|0.19899999999999998|0.48|0.336| 0.47|0.806|0.216|0.277|              0.201|              0.341|0.45799999999999996|0.14400000000000002|0.46799999999999997|0.33299999999999996|0.19899999999999998|0.14400000000000002|              0.502|              0.354|91.2|19.2|     49|0.10400000000000001|112.4|    207|              0.439|              0.149|              0.248|              0.305|              0.73| 0.6609999999999999|             0.873|             0.606|               0.099|0.41200000000000003| -1.01| 2.7|6.0|\n",
            "|23697|  2023|  Julio Rodriguez| 22|155|654|714|               0.066|              0.245|0.27|0.333|0.485|0.818|0.209| 0.33|              0.185|0.47600000000000003|0.33899999999999997|              0.196|               0.42|0.34299999999999997|              0.237|              0.141|0.47200000000000003|              0.387|92.7| 8.5|     57|0.11900000000000001|116.7|    250|               0.52|              0.128|              0.272|               0.41|              0.73|              0.589|             0.851|              0.63| 0.14400000000000002|              0.402| -0.96| 4.5|5.9|\n",
            "|25764|  2023|   Bobby Witt Jr.| 23|158|641|694|0.057999999999999996|              0.174|0.33|0.319|0.495|0.813|0.218|0.295|              0.184|               0.38|              0.435|              0.131|0.37799999999999995|              0.321|              0.301|              0.153|0.47100000000000003|              0.376|90.7|15.7|     61|              0.115|113.8|    240|0.45399999999999996|               0.15|              0.255|              0.344|             0.733|              0.684|             0.862|             0.623|               0.105|              0.413| -1.18| 4.1|5.7|\n",
            "|20123|  2023|        Juan Soto| 24|162|568|708| 0.18600000000000003|              0.182|1.02| 0.41|0.519| 0.93|0.245|0.296|              0.166|               0.51|              0.324|              0.245|              0.389|              0.405|              0.207|0.14800000000000002|               0.44|0.41100000000000003|93.2| 6.7|     58|               0.13|115.3|    246| 0.5529999999999999|              0.198|              0.261|                0.2|             0.602| 0.6759999999999999|             0.899|             0.557|               0.063|              0.391| -1.15|-2.6|5.5|\n",
            "|20503|  2023|William Contreras| 25|141|540|611| 0.10300000000000001|0.20600000000000002| 0.5|0.367|0.457|0.825|0.169|0.348|              0.161|               0.55|0.28800000000000003|              0.142|0.34299999999999997|              0.391|              0.266|0.14400000000000002|              0.499|0.35700000000000004|91.3| 4.7|     39|              0.094|113.9|    202|              0.484|              0.187|              0.298|0.27899999999999997|0.6409999999999999|              0.619|             0.816|             0.607|               0.111|0.42100000000000004| -0.95| 0.0|5.4|\n",
            "|15640|  2023|      Aaron Judge| 31|106|367|458|               0.192|              0.284|0.68|0.406|0.613|1.019|0.346|  0.3|              0.196|              0.304|                0.5|              0.308|               0.45|              0.342|0.20800000000000002|              0.079|0.38299999999999995| 0.5379999999999999|97.6|20.4|     66|              0.275|116.9|    154|              0.642|               0.16|              0.298|              0.225|0.6940000000000001|0.45299999999999996|             0.768|              0.59|               0.138|              0.401| -1.78| 0.3|5.3|\n",
            "|18360|  2023|     Austin Riley| 26|159|636|715|               0.083|0.24100000000000002|0.34|0.345|0.516|0.861|0.234|0.324|              0.185|              0.413|              0.402|0.19399999999999998|0.41100000000000003|              0.358|0.23199999999999998|              0.126|              0.461|              0.413|92.3|13.5|     66|              0.139|116.1|    232|              0.488|               0.15|0.27399999999999997|               0.31|0.7190000000000001|              0.596|             0.831|              0.61|               0.124|               0.42|  -0.4| 4.3|5.2|\n",
            "|13510|  2023|     Jose Ramirez| 30|156|611|691|               0.106|              0.106| 1.0|0.356|0.475|0.831|0.193|0.285|0.22399999999999998|0.34700000000000003|              0.428|0.10300000000000001|              0.511|                0.3|0.18899999999999997|              0.165|              0.517|              0.318|90.0|18.0|     38|               0.07|111.6|    219|0.40299999999999997|               0.15|              0.218|              0.309|             0.703|               0.75|             0.925|             0.534|               0.067|                0.4|  1.04| 2.9|5.1|\n",
            "|26288|  2023|  Adley Rutschman| 25|154|588|687|               0.134|              0.147|0.91|0.374|0.435|0.809|0.158|0.303|0.23199999999999998|              0.423|0.34600000000000003|0.11800000000000001|              0.384|0.32299999999999995|              0.293|              0.163|              0.539|              0.299|88.4|12.6|     37|              0.075|111.1|    189|              0.384|              0.201|              0.257|               0.27|              0.62| 0.7709999999999999|             0.924|              0.56|0.055999999999999994|                0.4|  0.66| 0.3|5.1|\n",
            "|20043|  2023|      Luis Robert| 25|145|546|595|                0.05|              0.289|0.17|0.315|0.542|0.857|0.278|0.314|0.19699999999999998|              0.364|              0.439|               0.23|0.46799999999999997|              0.303|0.22899999999999998|0.18899999999999997|0.47600000000000003|              0.335|89.1|16.1|     58|              0.152|113.6|    159|0.41700000000000004|0.10800000000000001|0.29100000000000004|              0.433|             0.799|              0.519|0.8190000000000001|0.6890000000000001|               0.183|0.40299999999999997|  0.23|-0.9|5.0|\n",
            "|18345|  2023|      Kyle Tucker| 26|157|574|674| 0.11900000000000001|              0.136|0.87|0.369|0.517|0.886|0.233|0.289|              0.191|              0.384|              0.425|              0.139|              0.449|0.32899999999999996|              0.222|0.11800000000000001|              0.494|0.38799999999999996|90.2|14.8|     52|0.10400000000000001|110.1|    222|              0.445|              0.133|0.20800000000000002|              0.259|             0.731|              0.696|             0.904|             0.616|               0.075|0.43700000000000006|  0.86| 4.4|4.9|\n",
            "|15491|  2023|    J.P. Crawford| 28|145|534|638|               0.147|              0.196|0.75| 0.38|0.438|0.818|0.172|0.314|0.23199999999999998|              0.391|              0.377|0.12300000000000001|               0.43|               0.35|               0.22|0.18600000000000003|              0.502|              0.312|88.3|15.1|     20|              0.048|110.1|    150|0.36200000000000004|              0.198|               0.26|0.21899999999999997|             0.604| 0.6990000000000001|             0.903|             0.528|               0.063|              0.429|  0.91| 1.9|4.9|\n",
            "+-----+------+-----------------+---+---+---+---+--------------------+-------------------+----+-----+-----+-----+-----+-----+-------------------+-------------------+-------------------+-------------------+-------------------+-------------------+-------------------+-------------------+-------------------+-------------------+----+----+-------+-------------------+-----+-------+-------------------+-------------------+-------------------+-------------------+------------------+-------------------+------------------+------------------+--------------------+-------------------+------+----+---+\n",
            "only showing top 20 rows\n",
            "\n"
          ]
        }
      ],
      "source": [
        "csv_files = [\n",
        "    \"batting_2023.csv\",\n",
        "    \"batting_2022.csv\",\n",
        "    \"batting_2021.csv\",\n",
        "    \"batting_2020.csv\",\n",
        "    \"batting_2019.csv\",\n",
        "    \"batting_2018.csv\",\n",
        "    \"batting_2017.csv\",\n",
        "    \"batting_2016.csv\",\n",
        "    \"batting_2015.csv\",\n",
        "    \"batting_2014.csv\",\n",
        "    \"batting_2013.csv\",\n",
        "]\n",
        "\n",
        "# Read each CSV file and create a DataFrame\n",
        "dataframes = []\n",
        "for csv_file in csv_files:\n",
        "    df = spark.read.csv(csv_file, header=True, inferSchema=True)\n",
        "    dataframes.append(df)\n",
        "\n",
        "# Union all DataFrames to create a single master DataFrame\n",
        "master_df = dataframes[0]\n",
        "for df in dataframes[1:]:\n",
        "    master_df = master_df.union(df)\n",
        "\n",
        "# Show the master DataFrame\n",
        "master_df.show()"
      ]
    },
    {
      "cell_type": "code",
      "source": [
        "from pyspark.sql import functions as F\n",
        "\n",
        "age_count = master_df.select('Age').distinct().count()\n",
        "print(age_count)"
      ],
      "metadata": {
        "colab": {
          "base_uri": "https://localhost:8080/"
        },
        "id": "xbm6K6HcmChZ",
        "outputId": "c77801fe-d083-4a5f-f786-1eed4744f1a8"
      },
      "execution_count": 29,
      "outputs": [
        {
          "output_type": "stream",
          "name": "stdout",
          "text": [
            "26\n"
          ]
        }
      ]
    },
    {
      "cell_type": "code",
      "source": [
        "age_distribution = master_df.groupBy('Age').count().orderBy('Age')\n",
        "\n",
        "age_distribution.show(age_distribution.count(), truncate=False)\n"
      ],
      "metadata": {
        "colab": {
          "base_uri": "https://localhost:8080/"
        },
        "id": "xZ6a7m631NjE",
        "outputId": "f488c8c9-1bdd-4792-80d3-38af63a4d71f"
      },
      "execution_count": 30,
      "outputs": [
        {
          "output_type": "stream",
          "name": "stdout",
          "text": [
            "+---+-----+\n",
            "|Age|count|\n",
            "+---+-----+\n",
            "|19 |3    |\n",
            "|20 |25   |\n",
            "|21 |102  |\n",
            "|22 |243  |\n",
            "|23 |464  |\n",
            "|24 |648  |\n",
            "|25 |767  |\n",
            "|26 |835  |\n",
            "|27 |806  |\n",
            "|28 |714  |\n",
            "|29 |613  |\n",
            "|30 |528  |\n",
            "|31 |449  |\n",
            "|32 |386  |\n",
            "|33 |314  |\n",
            "|34 |237  |\n",
            "|35 |158  |\n",
            "|36 |107  |\n",
            "|37 |72   |\n",
            "|38 |39   |\n",
            "|39 |27   |\n",
            "|40 |11   |\n",
            "|41 |7    |\n",
            "|42 |7    |\n",
            "|43 |3    |\n",
            "|44 |2    |\n",
            "+---+-----+\n",
            "\n"
          ]
        }
      ]
    },
    {
      "cell_type": "code",
      "source": [
        "from pyspark.sql import SparkSession\n",
        "from pyspark.sql.functions import when, lit\n",
        "\n",
        "\n",
        "# Define the age brackets\n",
        "age_brackets = [(1, 19, 23), (2, 24, 28), (3, 29, 34), (4, 35, 39), (5, 40, 44)]\n",
        "\n",
        "# Initialize the complete_df DataFrame\n",
        "complete_df = master_df\n",
        "\n",
        "# Create a new column 'age_bracket'\n",
        "age_column = None  # Initialize age_column variable\n",
        "for bracket in age_brackets:\n",
        "    bracket_num, start_age, end_age = bracket\n",
        "# Create a when condition for the current age bracket\n",
        "    age_condition = (complete_df['Age'] >= start_age) & (complete_df['Age'] <= end_age)\n",
        "# Update the age_column with the current bracket number\n",
        "    age_column = when(age_condition, bracket_num).otherwise(age_column)\n",
        "\n",
        "# Add the 'age_bracket' column to the DataFrame\n",
        "complete_df = complete_df.withColumn('age_bracket', age_column)\n",
        "\n",
        "# Show the updated DataFrame\n",
        "complete_df.show()"
      ],
      "metadata": {
        "id": "hgzk9z_86zP_",
        "outputId": "69713f91-8be8-48f2-a303-b32a26392b1b",
        "colab": {
          "base_uri": "https://localhost:8080/"
        }
      },
      "execution_count": 35,
      "outputs": [
        {
          "output_type": "stream",
          "name": "stdout",
          "text": [
            "+-----+------+-----------------+---+---+---+---+--------------------+-------------------+----+-----+-----+-----+-----+-----+-------------------+-------------------+-------------------+-------------------+-------------------+-------------------+-------------------+-------------------+-------------------+-------------------+----+----+-------+-------------------+-----+-------+-------------------+-------------------+-------------------+-------------------+------------------+-------------------+------------------+------------------+--------------------+-------------------+------+----+---+-----------+\n",
            "| IDfg|Season|             Name|Age|  G| AB| PA|                 BB%|                 K%|BB/K|  OBP|  SLG|  OPS|  ISO|BABIP|                LD%|                GB%|                FB%|              HR/FB|              Pull%|              Cent%|              Oppo%|              Soft%|               Med%|              Hard%|  EV|  LA|Barrels|            Barrel%|maxEV|HardHit|           HardHit%|              CStr%|               CSW%|           O-Swing%|          Z-Swing%|         O-Contact%|        Z-Contact%|         F-Strike%|              SwStr%|              Zone%|Clutch| UBR|WAR|age_bracket|\n",
            "+-----+------+-----------------+---+---+---+---+--------------------+-------------------+----+-----+-----+-----+-----+-----+-------------------+-------------------+-------------------+-------------------+-------------------+-------------------+-------------------+-------------------+-------------------+-------------------+----+----+-------+-------------------+-----+-------+-------------------+-------------------+-------------------+-------------------+------------------+-------------------+------------------+------------------+--------------------+-------------------+------+----+---+-----------+\n",
            "|18401|  2023| Ronald Acuna Jr.| 25|159|643|735|               0.109|              0.114|0.95|0.416|0.596|1.012|0.258|0.338|              0.201|              0.495|              0.304|               0.24|              0.397|0.35600000000000004|              0.247|0.10099999999999999|0.43799999999999994|              0.461|94.7| 7.4|     86|              0.153|121.2|    309|               0.55|0.13699999999999998|              0.214|              0.268|             0.728|              0.738|             0.878|             0.589|               0.078|0.42200000000000004|  1.16| 2.2|8.4|          2|\n",
            "|13611|  2023|     Mookie Betts| 30|152|584|693|               0.139|              0.154| 0.9|0.408|0.579|0.987|0.272|0.316|              0.237|              0.278|              0.485|0.16699999999999998|0.46299999999999997|              0.355|              0.183|                0.1|               0.49|0.41100000000000003|92.4|20.6|     60|              0.125|110.1|    232|0.48100000000000004|              0.205|              0.262|                0.2|              0.63|              0.643|0.9390000000000001|             0.595|0.057999999999999996|0.42100000000000004| -0.72| 2.3|8.3|          3|\n",
            "| 5361|  2023|  Freddie Freeman| 33|161|637|730|               0.099|              0.166| 0.6| 0.41|0.567|0.976|0.235| 0.37|              0.276|              0.353|               0.37|               0.15|              0.365|0.35700000000000004|              0.278|              0.106|              0.526|              0.369|90.0|15.2|     58|              0.111|110.6|    218|              0.418|              0.114|0.20800000000000002|              0.301|             0.792|              0.688|              0.88|             0.614|               0.094|              0.426|  -1.5| 1.4|7.9|          3|\n",
            "|14344|  2023|       Matt Olson| 29|162|608|720| 0.14400000000000002|0.23199999999999998|0.62|0.389|0.604|0.993|0.321|0.302|0.17800000000000002|              0.387|              0.436|              0.278|              0.382|              0.373|              0.245|0.11199999999999999|              0.461|0.42700000000000005|93.7|16.1|     73|0.16399999999999998|118.6|    245|              0.551|              0.131|              0.249|              0.295|             0.735|              0.695|             0.777|             0.556| 0.11900000000000001|              0.395|  -0.6| 2.3|6.7|          3|\n",
            "|19755|  2023|    Shohei Ohtani| 28|135|497|599|               0.152|              0.239|0.64|0.412|0.654|1.066| 0.35|0.342|              0.182|              0.423|              0.395|              0.312|              0.389|              0.361|              0.249|              0.098|              0.473|              0.429|94.4|13.2|     70|              0.193|118.6|    193| 0.5329999999999999|              0.125|              0.265|0.33299999999999996|0.7070000000000001|              0.565|0.8140000000000001|0.5710000000000001|               0.139|0.39299999999999996| -2.08| 1.7|6.6|          2|\n",
            "|12533|  2023|    Marcus Semien| 32|162|670|753|               0.096|              0.146|0.65|0.348|0.478|0.826|0.201|0.291|              0.196|0.33799999999999997|              0.465|               0.11|              0.494|              0.304|0.20199999999999999|              0.131|              0.525|              0.344|88.4|19.1|     37|              0.065|108.6|    208|              0.368|              0.146|              0.225|              0.253|              0.77|              0.662|             0.912|             0.608|               0.078|0.42100000000000004| -1.53| 1.0|6.3|          3|\n",
            "|13624|  2023|     Corey Seager| 29|119|477|536|               0.091|0.16399999999999998|0.56| 0.39|0.623|1.013|0.296| 0.34|              0.203|                0.4|              0.397|               0.21|              0.415|              0.344|0.24100000000000002|              0.086|               0.43|              0.484|93.3|13.0|     60|              0.152|114.4|    210|              0.532|              0.075|                0.2|              0.336|             0.855|              0.551|             0.895|             0.612|               0.126|              0.415|  0.38|-4.4|6.1|          3|\n",
            "|25878|  2023|   Corbin Carroll| 22|155|565|645| 0.08800000000000001|0.19399999999999998|0.46|0.362|0.506|0.868|0.221|0.325|               0.19|              0.439|              0.371|              0.154|0.42700000000000005|              0.331|              0.242|              0.142|              0.524|0.33299999999999996|90.0|11.0|     34|              0.076|113.8|    184|              0.409|              0.168|              0.257|              0.305|              0.67|              0.682|             0.885|0.5720000000000001| 0.08900000000000001|0.41100000000000003|   1.5| 6.0|6.1|          1|\n",
            "|12916|  2023| Francisco Lindor| 29|160|602|687|               0.096|0.19899999999999998|0.48|0.336| 0.47|0.806|0.216|0.277|              0.201|              0.341|0.45799999999999996|0.14400000000000002|0.46799999999999997|0.33299999999999996|0.19899999999999998|0.14400000000000002|              0.502|              0.354|91.2|19.2|     49|0.10400000000000001|112.4|    207|              0.439|              0.149|              0.248|              0.305|              0.73| 0.6609999999999999|             0.873|             0.606|               0.099|0.41200000000000003| -1.01| 2.7|6.0|          3|\n",
            "|23697|  2023|  Julio Rodriguez| 22|155|654|714|               0.066|              0.245|0.27|0.333|0.485|0.818|0.209| 0.33|              0.185|0.47600000000000003|0.33899999999999997|              0.196|               0.42|0.34299999999999997|              0.237|              0.141|0.47200000000000003|              0.387|92.7| 8.5|     57|0.11900000000000001|116.7|    250|               0.52|              0.128|              0.272|               0.41|              0.73|              0.589|             0.851|              0.63| 0.14400000000000002|              0.402| -0.96| 4.5|5.9|          1|\n",
            "|25764|  2023|   Bobby Witt Jr.| 23|158|641|694|0.057999999999999996|              0.174|0.33|0.319|0.495|0.813|0.218|0.295|              0.184|               0.38|              0.435|              0.131|0.37799999999999995|              0.321|              0.301|              0.153|0.47100000000000003|              0.376|90.7|15.7|     61|              0.115|113.8|    240|0.45399999999999996|               0.15|              0.255|              0.344|             0.733|              0.684|             0.862|             0.623|               0.105|              0.413| -1.18| 4.1|5.7|          1|\n",
            "|20123|  2023|        Juan Soto| 24|162|568|708| 0.18600000000000003|              0.182|1.02| 0.41|0.519| 0.93|0.245|0.296|              0.166|               0.51|              0.324|              0.245|              0.389|              0.405|              0.207|0.14800000000000002|               0.44|0.41100000000000003|93.2| 6.7|     58|               0.13|115.3|    246| 0.5529999999999999|              0.198|              0.261|                0.2|             0.602| 0.6759999999999999|             0.899|             0.557|               0.063|              0.391| -1.15|-2.6|5.5|          2|\n",
            "|20503|  2023|William Contreras| 25|141|540|611| 0.10300000000000001|0.20600000000000002| 0.5|0.367|0.457|0.825|0.169|0.348|              0.161|               0.55|0.28800000000000003|              0.142|0.34299999999999997|              0.391|              0.266|0.14400000000000002|              0.499|0.35700000000000004|91.3| 4.7|     39|              0.094|113.9|    202|              0.484|              0.187|              0.298|0.27899999999999997|0.6409999999999999|              0.619|             0.816|             0.607|               0.111|0.42100000000000004| -0.95| 0.0|5.4|          2|\n",
            "|15640|  2023|      Aaron Judge| 31|106|367|458|               0.192|              0.284|0.68|0.406|0.613|1.019|0.346|  0.3|              0.196|              0.304|                0.5|              0.308|               0.45|              0.342|0.20800000000000002|              0.079|0.38299999999999995| 0.5379999999999999|97.6|20.4|     66|              0.275|116.9|    154|              0.642|               0.16|              0.298|              0.225|0.6940000000000001|0.45299999999999996|             0.768|              0.59|               0.138|              0.401| -1.78| 0.3|5.3|          3|\n",
            "|18360|  2023|     Austin Riley| 26|159|636|715|               0.083|0.24100000000000002|0.34|0.345|0.516|0.861|0.234|0.324|              0.185|              0.413|              0.402|0.19399999999999998|0.41100000000000003|              0.358|0.23199999999999998|              0.126|              0.461|              0.413|92.3|13.5|     66|              0.139|116.1|    232|              0.488|               0.15|0.27399999999999997|               0.31|0.7190000000000001|              0.596|             0.831|              0.61|               0.124|               0.42|  -0.4| 4.3|5.2|          2|\n",
            "|13510|  2023|     Jose Ramirez| 30|156|611|691|               0.106|              0.106| 1.0|0.356|0.475|0.831|0.193|0.285|0.22399999999999998|0.34700000000000003|              0.428|0.10300000000000001|              0.511|                0.3|0.18899999999999997|              0.165|              0.517|              0.318|90.0|18.0|     38|               0.07|111.6|    219|0.40299999999999997|               0.15|              0.218|              0.309|             0.703|               0.75|             0.925|             0.534|               0.067|                0.4|  1.04| 2.9|5.1|          3|\n",
            "|26288|  2023|  Adley Rutschman| 25|154|588|687|               0.134|              0.147|0.91|0.374|0.435|0.809|0.158|0.303|0.23199999999999998|              0.423|0.34600000000000003|0.11800000000000001|              0.384|0.32299999999999995|              0.293|              0.163|              0.539|              0.299|88.4|12.6|     37|              0.075|111.1|    189|              0.384|              0.201|              0.257|               0.27|              0.62| 0.7709999999999999|             0.924|              0.56|0.055999999999999994|                0.4|  0.66| 0.3|5.1|          2|\n",
            "|20043|  2023|      Luis Robert| 25|145|546|595|                0.05|              0.289|0.17|0.315|0.542|0.857|0.278|0.314|0.19699999999999998|              0.364|              0.439|               0.23|0.46799999999999997|              0.303|0.22899999999999998|0.18899999999999997|0.47600000000000003|              0.335|89.1|16.1|     58|              0.152|113.6|    159|0.41700000000000004|0.10800000000000001|0.29100000000000004|              0.433|             0.799|              0.519|0.8190000000000001|0.6890000000000001|               0.183|0.40299999999999997|  0.23|-0.9|5.0|          2|\n",
            "|18345|  2023|      Kyle Tucker| 26|157|574|674| 0.11900000000000001|              0.136|0.87|0.369|0.517|0.886|0.233|0.289|              0.191|              0.384|              0.425|              0.139|              0.449|0.32899999999999996|              0.222|0.11800000000000001|              0.494|0.38799999999999996|90.2|14.8|     52|0.10400000000000001|110.1|    222|              0.445|              0.133|0.20800000000000002|              0.259|             0.731|              0.696|             0.904|             0.616|               0.075|0.43700000000000006|  0.86| 4.4|4.9|          2|\n",
            "|15491|  2023|    J.P. Crawford| 28|145|534|638|               0.147|              0.196|0.75| 0.38|0.438|0.818|0.172|0.314|0.23199999999999998|              0.391|              0.377|0.12300000000000001|               0.43|               0.35|               0.22|0.18600000000000003|              0.502|              0.312|88.3|15.1|     20|              0.048|110.1|    150|0.36200000000000004|              0.198|               0.26|0.21899999999999997|             0.604| 0.6990000000000001|             0.903|             0.528|               0.063|              0.429|  0.91| 1.9|4.9|          2|\n",
            "+-----+------+-----------------+---+---+---+---+--------------------+-------------------+----+-----+-----+-----+-----+-----+-------------------+-------------------+-------------------+-------------------+-------------------+-------------------+-------------------+-------------------+-------------------+-------------------+----+----+-------+-------------------+-----+-------+-------------------+-------------------+-------------------+-------------------+------------------+-------------------+------------------+------------------+--------------------+-------------------+------+----+---+-----------+\n",
            "only showing top 20 rows\n",
            "\n"
          ]
        }
      ]
    },
    {
      "cell_type": "code",
      "source": [
        "# # Group by the 'age_bracket' column, compute the count and sort the results by age_bracket\n",
        "age_bracket_counts_sorted = complete_df.groupBy('age_bracket').count().orderBy('age_bracket')\n",
        "\n",
        "# Show the count of players in each age bracket sorted by age_bracket\n",
        "age_bracket_counts_sorted.show()"
      ],
      "metadata": {
        "id": "BQToCNjN8N_H",
        "outputId": "45dc9e18-d9b7-4da6-a7bb-9b03f2965505",
        "colab": {
          "base_uri": "https://localhost:8080/"
        }
      },
      "execution_count": 37,
      "outputs": [
        {
          "output_type": "stream",
          "name": "stdout",
          "text": [
            "+-----------+-----+\n",
            "|age_bracket|count|\n",
            "+-----------+-----+\n",
            "|          1|  837|\n",
            "|          2| 3770|\n",
            "|          3| 2527|\n",
            "|          4|  403|\n",
            "|          5|   30|\n",
            "+-----------+-----+\n",
            "\n"
          ]
        }
      ]
    },
    {
      "cell_type": "code",
      "source": [
        "# Define the output path including the file name\n",
        "output_path = \"MLB-player-archetypes-by-age.csv\"\n",
        "\n",
        "# Save the DataFrame as CSV\n",
        "complete_df.write.csv(output_path, header=True, mode=\"overwrite\")"
      ],
      "metadata": {
        "id": "iRSMMJvWC9Rv"
      },
      "execution_count": 42,
      "outputs": []
    },
    {
      "cell_type": "code",
      "source": [
        "# Define the output path\n",
        "output_path = \"file:///C:/Users/18607/uu/homework/Project-4/baseballdatabank-2023.1.csv\"\n",
        "\n",
        "# Save the DataFrame as CSV\n",
        "complete_df.write.csv(output_path, header=True, mode=\"overwrite\")"
      ],
      "metadata": {
        "id": "LRlxqnKM_XA3"
      },
      "execution_count": 40,
      "outputs": []
    }
  ]
}