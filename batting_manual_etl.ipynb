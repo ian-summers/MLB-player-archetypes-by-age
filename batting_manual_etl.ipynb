{
 "cells": [
  {
   "cell_type": "code",
   "execution_count": 7,
   "metadata": {},
   "outputs": [],
   "source": [
    "import pandas as pd\n",
    "import pybaseball\n",
    "from pybaseball import playerid_lookup, batting_stats_bref, statcast_batter, cache, statcast\n",
    "\n",
    "cache.enable()"
   ]
  },
  {
   "cell_type": "code",
   "execution_count": 22,
   "metadata": {},
   "outputs": [
    {
     "name": "stdout",
     "output_type": "stream",
     "text": [
      "      IDfg  Season              Name   Team  Age    G   AB   PA    H   1B  \\\n",
      "7    18401    2023  Ronald Acuna Jr.    ATL   25  159  643  735  217  137   \n",
      "11   13611    2023      Mookie Betts    LAD   30  152  584  693  179   99   \n",
      "14    5361    2023   Freddie Freeman    LAD   33  161  637  730  211  121   \n",
      "13   14344    2023        Matt Olson    ATL   29  162  608  720  172   88   \n",
      "5    19755    2023     Shohei Ohtani    LAA   28  135  497  599  151   73   \n",
      "..     ...     ...               ...    ...  ...  ...  ...  ...  ...  ...   \n",
      "487  19901    2023      Gavin Sheets    CHW   27  118  311  344   63   43   \n",
      "555  14111    2023        Eric Haase  - - -   30   89  274  293   55   42   \n",
      "543  20970    2023    Oscar Gonzalez    CLE   25   54  173  180   37   26   \n",
      "494  14691    2023     Harold Castro    COL   29   99  258  270   65   51   \n",
      "302  10815    2023  Jurickson Profar  - - -   30  125  459  521  111   73   \n",
      "\n",
      "     ...  maxEV  HardHit  HardHit%  Events  CStr%   CSW%    xBA   xSLG  xwOBA  \\\n",
      "7    ...  121.2      309     0.550     562  0.137  0.214  0.357  0.660  0.460   \n",
      "11   ...  110.1      232     0.481     482  0.205  0.262  0.294  0.563  0.407   \n",
      "14   ...  110.6      218     0.418     521  0.114  0.208  0.323  0.565  0.408   \n",
      "13   ...  118.6      245     0.551     445  0.131  0.249  0.264  0.558  0.392   \n",
      "5    ...  118.6      193     0.533     362  0.125  0.265  0.295  0.638  0.427   \n",
      "..   ...    ...      ...       ...     ...    ...    ...    ...    ...    ...   \n",
      "487  ...  109.5       81     0.325     249  0.151  0.243  0.210  0.339  0.267   \n",
      "555  ...  109.9       70     0.359     195  0.138  0.301  0.217  0.309  0.253   \n",
      "543  ...  113.0       52     0.406     128  0.134  0.301  0.237  0.362  0.271   \n",
      "494  ...  106.1       56     0.287     195  0.142  0.292  0.242  0.338  0.263   \n",
      "302  ...  108.8      119     0.317     375  0.151  0.236  0.247  0.349  0.306   \n",
      "\n",
      "     L-WAR  \n",
      "7      8.6  \n",
      "11     8.6  \n",
      "14     7.6  \n",
      "13     6.8  \n",
      "5      6.6  \n",
      "..     ...  \n",
      "487   -1.4  \n",
      "555   -1.3  \n",
      "543   -1.1  \n",
      "494   -0.9  \n",
      "302   -0.9  \n",
      "\n",
      "[623 rows x 320 columns]\n"
     ]
    }
   ],
   "source": [
    "import pybaseball\n",
    "\n",
    "# Individual Batting Stats\n",
    "batting_2023 = pybaseball.batting_stats(2023, qual=10)\n",
    "\n",
    "print(batting_2022)"
   ]
  },
  {
   "cell_type": "code",
   "execution_count": 2,
   "metadata": {},
   "outputs": [
    {
     "name": "stdout",
     "output_type": "stream",
     "text": [
      "['IDfg', 'Season', 'Name', 'Age', 'G', 'AB', 'PA', 'BB%', 'K%', 'BB/K', 'OBP', 'SLG', 'OPS', 'ISO', 'BABIP', 'LD%', 'GB%', 'FB%', 'HR/FB', 'Pull%', 'Cent%', 'Oppo%', 'Soft%', 'Med%', 'Hard%', 'EV', 'LA', 'Barrels', 'Barrel%', 'maxEV', 'HardHit', 'HardHit%', 'CStr%', 'CSW%', 'O-Swing%', 'Z-Swing%', 'O-Contact%', 'Z-Contact%', 'F-Strike%', 'SwStr%', 'Zone%', 'Clutch', 'UBR', 'WAR']\n"
     ]
    }
   ],
   "source": [
    "import pybaseball\n",
    "\n",
    "batting_2023 = pybaseball.batting_stats(2023, qual=10)\n",
    "columns = [\n",
    "    (\"IDfg\"), (\"Season\"), (\"Name\"), (\"Age\"),\n",
    "    (\"G\"), (\"AB\"), (\"PA\"), (\"BB%\"),\n",
    "    (\"K%\"), (\"BB/K\"), (\"OBP\"), (\"SLG\"),\n",
    "    (\"OPS\"), (\"ISO\"), (\"BABIP\"), (\"LD%\"),\n",
    "    (\"GB%\"), (\"FB%\"), (\"HR/FB\"), (\"Pull%\"),\n",
    "    (\"Cent%\"), (\"Oppo%\"), (\"Soft%\"), (\"Med%\"),\n",
    "    (\"Hard%\"), (\"EV\"), (\"LA\"), (\"Barrels\"),\n",
    "    (\"Barrel%\"), (\"maxEV\"), (\"HardHit\"), (\"HardHit%\"),\n",
    "    (\"CStr%\"), (\"CSW%\"), (\"O-Swing%\"), (\"Z-Swing%\"),\n",
    "    (\"O-Contact%\"), (\"Z-Contact%\"), (\"F-Strike%\"), (\"SwStr%\"),\n",
    "    (\"Zone%\"), (\"Clutch\"), (\"UBR\"), (\"WAR\")\n",
    "]\n",
    "filtered_batting_2023 = batting_2023[columns]\n",
    "print(filtered_batting_2023.columns.tolist())"
   ]
  },
  {
   "cell_type": "code",
   "execution_count": 3,
   "metadata": {},
   "outputs": [],
   "source": [
    "filtered_batting_2023.to_csv('path_to_your_file.csv', index=False)"
   ]
  },
  {
   "cell_type": "code",
   "execution_count": 4,
   "metadata": {},
   "outputs": [
    {
     "name": "stdout",
     "output_type": "stream",
     "text": [
      "['IDfg', 'Season', 'Name', 'Age', 'G', 'AB', 'PA', 'BB%', 'K%', 'BB/K', 'OBP', 'SLG', 'OPS', 'ISO', 'BABIP', 'LD%', 'GB%', 'FB%', 'HR/FB', 'Pull%', 'Cent%', 'Oppo%', 'Soft%', 'Med%', 'Hard%', 'EV', 'LA', 'Barrels', 'Barrel%', 'maxEV', 'HardHit', 'HardHit%', 'CStr%', 'CSW%', 'O-Swing%', 'Z-Swing%', 'O-Contact%', 'Z-Contact%', 'F-Strike%', 'SwStr%', 'Zone%', 'Clutch', 'UBR', 'WAR']\n"
     ]
    }
   ],
   "source": [
    "batting_2022 = pybaseball.batting_stats(2022, qual=10)\n",
    "columns = [\n",
    "    (\"IDfg\"), (\"Season\"), (\"Name\"), (\"Age\"),\n",
    "    (\"G\"), (\"AB\"), (\"PA\"), (\"BB%\"),\n",
    "    (\"K%\"), (\"BB/K\"), (\"OBP\"), (\"SLG\"),\n",
    "    (\"OPS\"), (\"ISO\"), (\"BABIP\"), (\"LD%\"),\n",
    "    (\"GB%\"), (\"FB%\"), (\"HR/FB\"), (\"Pull%\"),\n",
    "    (\"Cent%\"), (\"Oppo%\"), (\"Soft%\"), (\"Med%\"),\n",
    "    (\"Hard%\"), (\"EV\"), (\"LA\"), (\"Barrels\"),\n",
    "    (\"Barrel%\"), (\"maxEV\"), (\"HardHit\"), (\"HardHit%\"),\n",
    "    (\"CStr%\"), (\"CSW%\"), (\"O-Swing%\"), (\"Z-Swing%\"),\n",
    "    (\"O-Contact%\"), (\"Z-Contact%\"), (\"F-Strike%\"), (\"SwStr%\"),\n",
    "    (\"Zone%\"), (\"Clutch\"), (\"UBR\"), (\"WAR\")\n",
    "]\n",
    "filtered_batting_2022 = batting_2022[columns]\n",
    "print(filtered_batting_2022.columns.tolist())"
   ]
  },
  {
   "cell_type": "code",
   "execution_count": 5,
   "metadata": {},
   "outputs": [],
   "source": [
    "filtered_batting_2022.to_csv('batting_2022.csv', index=False)"
   ]
  },
  {
   "cell_type": "code",
   "execution_count": 6,
   "metadata": {},
   "outputs": [
    {
     "name": "stdout",
     "output_type": "stream",
     "text": [
      "['IDfg', 'Season', 'Name', 'Age', 'G', 'AB', 'PA', 'BB%', 'K%', 'BB/K', 'OBP', 'SLG', 'OPS', 'ISO', 'BABIP', 'LD%', 'GB%', 'FB%', 'HR/FB', 'Pull%', 'Cent%', 'Oppo%', 'Soft%', 'Med%', 'Hard%', 'EV', 'LA', 'Barrels', 'Barrel%', 'maxEV', 'HardHit', 'HardHit%', 'CStr%', 'CSW%', 'O-Swing%', 'Z-Swing%', 'O-Contact%', 'Z-Contact%', 'F-Strike%', 'SwStr%', 'Zone%', 'Clutch', 'UBR', 'WAR']\n"
     ]
    }
   ],
   "source": [
    "batting_2021 = pybaseball.batting_stats(2021, qual=10)\n",
    "columns = [\n",
    "    (\"IDfg\"), (\"Season\"), (\"Name\"), (\"Age\"),\n",
    "    (\"G\"), (\"AB\"), (\"PA\"), (\"BB%\"),\n",
    "    (\"K%\"), (\"BB/K\"), (\"OBP\"), (\"SLG\"),\n",
    "    (\"OPS\"), (\"ISO\"), (\"BABIP\"), (\"LD%\"),\n",
    "    (\"GB%\"), (\"FB%\"), (\"HR/FB\"), (\"Pull%\"),\n",
    "    (\"Cent%\"), (\"Oppo%\"), (\"Soft%\"), (\"Med%\"),\n",
    "    (\"Hard%\"), (\"EV\"), (\"LA\"), (\"Barrels\"),\n",
    "    (\"Barrel%\"), (\"maxEV\"), (\"HardHit\"), (\"HardHit%\"),\n",
    "    (\"CStr%\"), (\"CSW%\"), (\"O-Swing%\"), (\"Z-Swing%\"),\n",
    "    (\"O-Contact%\"), (\"Z-Contact%\"), (\"F-Strike%\"), (\"SwStr%\"),\n",
    "    (\"Zone%\"), (\"Clutch\"), (\"UBR\"), (\"WAR\")\n",
    "]\n",
    "filtered_batting_2021 = batting_2021[columns]\n",
    "print(filtered_batting_2021.columns.tolist())"
   ]
  },
  {
   "cell_type": "code",
   "execution_count": 7,
   "metadata": {},
   "outputs": [],
   "source": [
    "filtered_batting_2021.to_csv('batting_2021.csv', index=False)"
   ]
  },
  {
   "cell_type": "code",
   "execution_count": 8,
   "metadata": {},
   "outputs": [
    {
     "name": "stdout",
     "output_type": "stream",
     "text": [
      "['IDfg', 'Season', 'Name', 'Age', 'G', 'AB', 'PA', 'BB%', 'K%', 'BB/K', 'OBP', 'SLG', 'OPS', 'ISO', 'BABIP', 'LD%', 'GB%', 'FB%', 'HR/FB', 'Pull%', 'Cent%', 'Oppo%', 'Soft%', 'Med%', 'Hard%', 'EV', 'LA', 'Barrels', 'Barrel%', 'maxEV', 'HardHit', 'HardHit%', 'CStr%', 'CSW%', 'O-Swing%', 'Z-Swing%', 'O-Contact%', 'Z-Contact%', 'F-Strike%', 'SwStr%', 'Zone%', 'Clutch', 'UBR', 'WAR']\n"
     ]
    }
   ],
   "source": [
    "batting_2020 = pybaseball.batting_stats(2020, qual=10)\n",
    "columns = [\n",
    "    (\"IDfg\"), (\"Season\"), (\"Name\"), (\"Age\"),\n",
    "    (\"G\"), (\"AB\"), (\"PA\"), (\"BB%\"),\n",
    "    (\"K%\"), (\"BB/K\"), (\"OBP\"), (\"SLG\"),\n",
    "    (\"OPS\"), (\"ISO\"), (\"BABIP\"), (\"LD%\"),\n",
    "    (\"GB%\"), (\"FB%\"), (\"HR/FB\"), (\"Pull%\"),\n",
    "    (\"Cent%\"), (\"Oppo%\"), (\"Soft%\"), (\"Med%\"),\n",
    "    (\"Hard%\"), (\"EV\"), (\"LA\"), (\"Barrels\"),\n",
    "    (\"Barrel%\"), (\"maxEV\"), (\"HardHit\"), (\"HardHit%\"),\n",
    "    (\"CStr%\"), (\"CSW%\"), (\"O-Swing%\"), (\"Z-Swing%\"),\n",
    "    (\"O-Contact%\"), (\"Z-Contact%\"), (\"F-Strike%\"), (\"SwStr%\"),\n",
    "    (\"Zone%\"), (\"Clutch\"), (\"UBR\"), (\"WAR\")\n",
    "]\n",
    "filtered_batting_2020 = batting_2020[columns]\n",
    "print(filtered_batting_2020.columns.tolist())"
   ]
  },
  {
   "cell_type": "code",
   "execution_count": 9,
   "metadata": {},
   "outputs": [],
   "source": [
    "filtered_batting_2020.to_csv('batting_2020.csv', index=False)"
   ]
  },
  {
   "cell_type": "code",
   "execution_count": 10,
   "metadata": {},
   "outputs": [
    {
     "name": "stdout",
     "output_type": "stream",
     "text": [
      "['IDfg', 'Season', 'Name', 'Age', 'G', 'AB', 'PA', 'BB%', 'K%', 'BB/K', 'OBP', 'SLG', 'OPS', 'ISO', 'BABIP', 'LD%', 'GB%', 'FB%', 'HR/FB', 'Pull%', 'Cent%', 'Oppo%', 'Soft%', 'Med%', 'Hard%', 'EV', 'LA', 'Barrels', 'Barrel%', 'maxEV', 'HardHit', 'HardHit%', 'CStr%', 'CSW%', 'O-Swing%', 'Z-Swing%', 'O-Contact%', 'Z-Contact%', 'F-Strike%', 'SwStr%', 'Zone%', 'Clutch', 'UBR', 'WAR']\n"
     ]
    }
   ],
   "source": [
    "batting_2019 = pybaseball.batting_stats(2019, qual=10)\n",
    "columns = [\n",
    "    (\"IDfg\"), (\"Season\"), (\"Name\"), (\"Age\"),\n",
    "    (\"G\"), (\"AB\"), (\"PA\"), (\"BB%\"),\n",
    "    (\"K%\"), (\"BB/K\"), (\"OBP\"), (\"SLG\"),\n",
    "    (\"OPS\"), (\"ISO\"), (\"BABIP\"), (\"LD%\"),\n",
    "    (\"GB%\"), (\"FB%\"), (\"HR/FB\"), (\"Pull%\"),\n",
    "    (\"Cent%\"), (\"Oppo%\"), (\"Soft%\"), (\"Med%\"),\n",
    "    (\"Hard%\"), (\"EV\"), (\"LA\"), (\"Barrels\"),\n",
    "    (\"Barrel%\"), (\"maxEV\"), (\"HardHit\"), (\"HardHit%\"),\n",
    "    (\"CStr%\"), (\"CSW%\"), (\"O-Swing%\"), (\"Z-Swing%\"),\n",
    "    (\"O-Contact%\"), (\"Z-Contact%\"), (\"F-Strike%\"), (\"SwStr%\"),\n",
    "    (\"Zone%\"), (\"Clutch\"), (\"UBR\"), (\"WAR\")\n",
    "]\n",
    "filtered_batting_2019 = batting_2019[columns]\n",
    "print(filtered_batting_2020.columns.tolist())"
   ]
  },
  {
   "cell_type": "code",
   "execution_count": 11,
   "metadata": {},
   "outputs": [],
   "source": [
    "filtered_batting_2019.to_csv('batting_2019.csv', index=False)"
   ]
  },
  {
   "cell_type": "code",
   "execution_count": 12,
   "metadata": {},
   "outputs": [
    {
     "name": "stdout",
     "output_type": "stream",
     "text": [
      "['IDfg', 'Season', 'Name', 'Age', 'G', 'AB', 'PA', 'BB%', 'K%', 'BB/K', 'OBP', 'SLG', 'OPS', 'ISO', 'BABIP', 'LD%', 'GB%', 'FB%', 'HR/FB', 'Pull%', 'Cent%', 'Oppo%', 'Soft%', 'Med%', 'Hard%', 'EV', 'LA', 'Barrels', 'Barrel%', 'maxEV', 'HardHit', 'HardHit%', 'CStr%', 'CSW%', 'O-Swing%', 'Z-Swing%', 'O-Contact%', 'Z-Contact%', 'F-Strike%', 'SwStr%', 'Zone%', 'Clutch', 'UBR', 'WAR']\n"
     ]
    }
   ],
   "source": [
    "batting_2018 = pybaseball.batting_stats(2018, qual=10)\n",
    "columns = [\n",
    "    (\"IDfg\"), (\"Season\"), (\"Name\"), (\"Age\"),\n",
    "    (\"G\"), (\"AB\"), (\"PA\"), (\"BB%\"),\n",
    "    (\"K%\"), (\"BB/K\"), (\"OBP\"), (\"SLG\"),\n",
    "    (\"OPS\"), (\"ISO\"), (\"BABIP\"), (\"LD%\"),\n",
    "    (\"GB%\"), (\"FB%\"), (\"HR/FB\"), (\"Pull%\"),\n",
    "    (\"Cent%\"), (\"Oppo%\"), (\"Soft%\"), (\"Med%\"),\n",
    "    (\"Hard%\"), (\"EV\"), (\"LA\"), (\"Barrels\"),\n",
    "    (\"Barrel%\"), (\"maxEV\"), (\"HardHit\"), (\"HardHit%\"),\n",
    "    (\"CStr%\"), (\"CSW%\"), (\"O-Swing%\"), (\"Z-Swing%\"),\n",
    "    (\"O-Contact%\"), (\"Z-Contact%\"), (\"F-Strike%\"), (\"SwStr%\"),\n",
    "    (\"Zone%\"), (\"Clutch\"), (\"UBR\"), (\"WAR\")\n",
    "]\n",
    "filtered_batting_2018 = batting_2018[columns]\n",
    "print(filtered_batting_2018.columns.tolist())"
   ]
  },
  {
   "cell_type": "code",
   "execution_count": 13,
   "metadata": {},
   "outputs": [],
   "source": [
    "filtered_batting_2018.to_csv('batting_2018.csv', index=False)"
   ]
  },
  {
   "cell_type": "code",
   "execution_count": 14,
   "metadata": {},
   "outputs": [
    {
     "name": "stdout",
     "output_type": "stream",
     "text": [
      "['IDfg', 'Season', 'Name', 'Age', 'G', 'AB', 'PA', 'BB%', 'K%', 'BB/K', 'OBP', 'SLG', 'OPS', 'ISO', 'BABIP', 'LD%', 'GB%', 'FB%', 'HR/FB', 'Pull%', 'Cent%', 'Oppo%', 'Soft%', 'Med%', 'Hard%', 'EV', 'LA', 'Barrels', 'Barrel%', 'maxEV', 'HardHit', 'HardHit%', 'CStr%', 'CSW%', 'O-Swing%', 'Z-Swing%', 'O-Contact%', 'Z-Contact%', 'F-Strike%', 'SwStr%', 'Zone%', 'Clutch', 'UBR', 'WAR']\n"
     ]
    }
   ],
   "source": [
    "batting_2017 = pybaseball.batting_stats(2017, qual=10)\n",
    "columns = [\n",
    "    (\"IDfg\"), (\"Season\"), (\"Name\"), (\"Age\"),\n",
    "    (\"G\"), (\"AB\"), (\"PA\"), (\"BB%\"),\n",
    "    (\"K%\"), (\"BB/K\"), (\"OBP\"), (\"SLG\"),\n",
    "    (\"OPS\"), (\"ISO\"), (\"BABIP\"), (\"LD%\"),\n",
    "    (\"GB%\"), (\"FB%\"), (\"HR/FB\"), (\"Pull%\"),\n",
    "    (\"Cent%\"), (\"Oppo%\"), (\"Soft%\"), (\"Med%\"),\n",
    "    (\"Hard%\"), (\"EV\"), (\"LA\"), (\"Barrels\"),\n",
    "    (\"Barrel%\"), (\"maxEV\"), (\"HardHit\"), (\"HardHit%\"),\n",
    "    (\"CStr%\"), (\"CSW%\"), (\"O-Swing%\"), (\"Z-Swing%\"),\n",
    "    (\"O-Contact%\"), (\"Z-Contact%\"), (\"F-Strike%\"), (\"SwStr%\"),\n",
    "    (\"Zone%\"), (\"Clutch\"), (\"UBR\"), (\"WAR\")\n",
    "]\n",
    "filtered_batting_2017 = batting_2017[columns]\n",
    "print(filtered_batting_2017.columns.tolist())"
   ]
  },
  {
   "cell_type": "code",
   "execution_count": 15,
   "metadata": {},
   "outputs": [],
   "source": [
    "filtered_batting_2017.to_csv('batting_2017.csv', index=False)"
   ]
  },
  {
   "cell_type": "code",
   "execution_count": 16,
   "metadata": {},
   "outputs": [
    {
     "name": "stdout",
     "output_type": "stream",
     "text": [
      "['IDfg', 'Season', 'Name', 'Age', 'G', 'AB', 'PA', 'BB%', 'K%', 'BB/K', 'OBP', 'SLG', 'OPS', 'ISO', 'BABIP', 'LD%', 'GB%', 'FB%', 'HR/FB', 'Pull%', 'Cent%', 'Oppo%', 'Soft%', 'Med%', 'Hard%', 'EV', 'LA', 'Barrels', 'Barrel%', 'maxEV', 'HardHit', 'HardHit%', 'CStr%', 'CSW%', 'O-Swing%', 'Z-Swing%', 'O-Contact%', 'Z-Contact%', 'F-Strike%', 'SwStr%', 'Zone%', 'Clutch', 'UBR', 'WAR']\n"
     ]
    }
   ],
   "source": [
    "batting_2016 = pybaseball.batting_stats(2016, qual=10)\n",
    "columns = [\n",
    "    (\"IDfg\"), (\"Season\"), (\"Name\"), (\"Age\"),\n",
    "    (\"G\"), (\"AB\"), (\"PA\"), (\"BB%\"),\n",
    "    (\"K%\"), (\"BB/K\"), (\"OBP\"), (\"SLG\"),\n",
    "    (\"OPS\"), (\"ISO\"), (\"BABIP\"), (\"LD%\"),\n",
    "    (\"GB%\"), (\"FB%\"), (\"HR/FB\"), (\"Pull%\"),\n",
    "    (\"Cent%\"), (\"Oppo%\"), (\"Soft%\"), (\"Med%\"),\n",
    "    (\"Hard%\"), (\"EV\"), (\"LA\"), (\"Barrels\"),\n",
    "    (\"Barrel%\"), (\"maxEV\"), (\"HardHit\"), (\"HardHit%\"),\n",
    "    (\"CStr%\"), (\"CSW%\"), (\"O-Swing%\"), (\"Z-Swing%\"),\n",
    "    (\"O-Contact%\"), (\"Z-Contact%\"), (\"F-Strike%\"), (\"SwStr%\"),\n",
    "    (\"Zone%\"), (\"Clutch\"), (\"UBR\"), (\"WAR\")\n",
    "]\n",
    "filtered_batting_2016 = batting_2016[columns]\n",
    "print(filtered_batting_2016.columns.tolist())"
   ]
  },
  {
   "cell_type": "code",
   "execution_count": 17,
   "metadata": {},
   "outputs": [],
   "source": [
    "filtered_batting_2016.to_csv('batting_2016.csv', index=False)"
   ]
  },
  {
   "cell_type": "code",
   "execution_count": 18,
   "metadata": {},
   "outputs": [
    {
     "name": "stdout",
     "output_type": "stream",
     "text": [
      "['IDfg', 'Season', 'Name', 'Age', 'G', 'AB', 'PA', 'BB%', 'K%', 'BB/K', 'OBP', 'SLG', 'OPS', 'ISO', 'BABIP', 'LD%', 'GB%', 'FB%', 'HR/FB', 'Pull%', 'Cent%', 'Oppo%', 'Soft%', 'Med%', 'Hard%', 'EV', 'LA', 'Barrels', 'Barrel%', 'maxEV', 'HardHit', 'HardHit%', 'CStr%', 'CSW%', 'O-Swing%', 'Z-Swing%', 'O-Contact%', 'Z-Contact%', 'F-Strike%', 'SwStr%', 'Zone%', 'Clutch', 'UBR', 'WAR']\n"
     ]
    }
   ],
   "source": [
    "batting_2015 = pybaseball.batting_stats(2015, qual=10)\n",
    "columns = [\n",
    "    (\"IDfg\"), (\"Season\"), (\"Name\"), (\"Age\"),\n",
    "    (\"G\"), (\"AB\"), (\"PA\"), (\"BB%\"),\n",
    "    (\"K%\"), (\"BB/K\"), (\"OBP\"), (\"SLG\"),\n",
    "    (\"OPS\"), (\"ISO\"), (\"BABIP\"), (\"LD%\"),\n",
    "    (\"GB%\"), (\"FB%\"), (\"HR/FB\"), (\"Pull%\"),\n",
    "    (\"Cent%\"), (\"Oppo%\"), (\"Soft%\"), (\"Med%\"),\n",
    "    (\"Hard%\"), (\"EV\"), (\"LA\"), (\"Barrels\"),\n",
    "    (\"Barrel%\"), (\"maxEV\"), (\"HardHit\"), (\"HardHit%\"),\n",
    "    (\"CStr%\"), (\"CSW%\"), (\"O-Swing%\"), (\"Z-Swing%\"),\n",
    "    (\"O-Contact%\"), (\"Z-Contact%\"), (\"F-Strike%\"), (\"SwStr%\"),\n",
    "    (\"Zone%\"), (\"Clutch\"), (\"UBR\"), (\"WAR\")\n",
    "]\n",
    "filtered_batting_2015 = batting_2015[columns]\n",
    "print(filtered_batting_2015.columns.tolist())"
   ]
  },
  {
   "cell_type": "code",
   "execution_count": 19,
   "metadata": {},
   "outputs": [],
   "source": [
    "filtered_batting_2015.to_csv('batting_2015.csv', index=False)"
   ]
  },
  {
   "cell_type": "code",
   "execution_count": 20,
   "metadata": {},
   "outputs": [
    {
     "name": "stdout",
     "output_type": "stream",
     "text": [
      "['IDfg', 'Season', 'Name', 'Age', 'G', 'AB', 'PA', 'BB%', 'K%', 'BB/K', 'OBP', 'SLG', 'OPS', 'ISO', 'BABIP', 'LD%', 'GB%', 'FB%', 'HR/FB', 'Pull%', 'Cent%', 'Oppo%', 'Soft%', 'Med%', 'Hard%', 'EV', 'LA', 'Barrels', 'Barrel%', 'maxEV', 'HardHit', 'HardHit%', 'CStr%', 'CSW%', 'O-Swing%', 'Z-Swing%', 'O-Contact%', 'Z-Contact%', 'F-Strike%', 'SwStr%', 'Zone%', 'Clutch', 'UBR', 'WAR']\n"
     ]
    }
   ],
   "source": [
    "batting_2014 = pybaseball.batting_stats(2014, qual=10)\n",
    "columns = [\n",
    "    (\"IDfg\"), (\"Season\"), (\"Name\"), (\"Age\"),\n",
    "    (\"G\"), (\"AB\"), (\"PA\"), (\"BB%\"),\n",
    "    (\"K%\"), (\"BB/K\"), (\"OBP\"), (\"SLG\"),\n",
    "    (\"OPS\"), (\"ISO\"), (\"BABIP\"), (\"LD%\"),\n",
    "    (\"GB%\"), (\"FB%\"), (\"HR/FB\"), (\"Pull%\"),\n",
    "    (\"Cent%\"), (\"Oppo%\"), (\"Soft%\"), (\"Med%\"),\n",
    "    (\"Hard%\"), (\"EV\"), (\"LA\"), (\"Barrels\"),\n",
    "    (\"Barrel%\"), (\"maxEV\"), (\"HardHit\"), (\"HardHit%\"),\n",
    "    (\"CStr%\"), (\"CSW%\"), (\"O-Swing%\"), (\"Z-Swing%\"),\n",
    "    (\"O-Contact%\"), (\"Z-Contact%\"), (\"F-Strike%\"), (\"SwStr%\"),\n",
    "    (\"Zone%\"), (\"Clutch\"), (\"UBR\"), (\"WAR\")\n",
    "]\n",
    "filtered_batting_2014 = batting_2014[columns]\n",
    "print(filtered_batting_2014.columns.tolist())"
   ]
  },
  {
   "cell_type": "code",
   "execution_count": 21,
   "metadata": {},
   "outputs": [],
   "source": [
    "filtered_batting_2014.to_csv('batting_2014.csv', index=False)"
   ]
  },
  {
   "cell_type": "code",
   "execution_count": 22,
   "metadata": {},
   "outputs": [
    {
     "name": "stdout",
     "output_type": "stream",
     "text": [
      "['IDfg', 'Season', 'Name', 'Age', 'G', 'AB', 'PA', 'BB%', 'K%', 'BB/K', 'OBP', 'SLG', 'OPS', 'ISO', 'BABIP', 'LD%', 'GB%', 'FB%', 'HR/FB', 'Pull%', 'Cent%', 'Oppo%', 'Soft%', 'Med%', 'Hard%', 'EV', 'LA', 'Barrels', 'Barrel%', 'maxEV', 'HardHit', 'HardHit%', 'CStr%', 'CSW%', 'O-Swing%', 'Z-Swing%', 'O-Contact%', 'Z-Contact%', 'F-Strike%', 'SwStr%', 'Zone%', 'Clutch', 'UBR', 'WAR']\n"
     ]
    }
   ],
   "source": [
    "batting_2013 = pybaseball.batting_stats(2013, qual=10)\n",
    "columns = [\n",
    "    (\"IDfg\"), (\"Season\"), (\"Name\"), (\"Age\"),\n",
    "    (\"G\"), (\"AB\"), (\"PA\"), (\"BB%\"),\n",
    "    (\"K%\"), (\"BB/K\"), (\"OBP\"), (\"SLG\"),\n",
    "    (\"OPS\"), (\"ISO\"), (\"BABIP\"), (\"LD%\"),\n",
    "    (\"GB%\"), (\"FB%\"), (\"HR/FB\"), (\"Pull%\"),\n",
    "    (\"Cent%\"), (\"Oppo%\"), (\"Soft%\"), (\"Med%\"),\n",
    "    (\"Hard%\"), (\"EV\"), (\"LA\"), (\"Barrels\"),\n",
    "    (\"Barrel%\"), (\"maxEV\"), (\"HardHit\"), (\"HardHit%\"),\n",
    "    (\"CStr%\"), (\"CSW%\"), (\"O-Swing%\"), (\"Z-Swing%\"),\n",
    "    (\"O-Contact%\"), (\"Z-Contact%\"), (\"F-Strike%\"), (\"SwStr%\"),\n",
    "    (\"Zone%\"), (\"Clutch\"), (\"UBR\"), (\"WAR\")\n",
    "]\n",
    "filtered_batting_2013 = batting_2013[columns]\n",
    "print(filtered_batting_2013.columns.tolist())"
   ]
  },
  {
   "cell_type": "code",
   "execution_count": 23,
   "metadata": {},
   "outputs": [],
   "source": [
    "filtered_batting_2013.to_csv('batting_2013.csv', index=False)"
   ]
  }
 ],
 "metadata": {
  "kernelspec": {
   "display_name": "dev",
   "language": "python",
   "name": "python3"
  },
  "language_info": {
   "codemirror_mode": {
    "name": "ipython",
    "version": 3
   },
   "file_extension": ".py",
   "mimetype": "text/x-python",
   "name": "python",
   "nbconvert_exporter": "python",
   "pygments_lexer": "ipython3",
   "version": "3.11.5"
  }
 },
 "nbformat": 4,
 "nbformat_minor": 2
}
